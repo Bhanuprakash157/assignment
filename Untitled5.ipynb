{
  "nbformat": 4,
  "nbformat_minor": 0,
  "metadata": {
    "colab": {
      "name": "Untitled5.ipynb",
      "provenance": [],
      "authorship_tag": "ABX9TyMs1aYJtMjGBH0t+dNpRt72",
      "include_colab_link": true
    },
    "kernelspec": {
      "name": "python3",
      "display_name": "Python 3"
    }
  },
  "cells": [
    {
      "cell_type": "markdown",
      "metadata": {
        "id": "view-in-github",
        "colab_type": "text"
      },
      "source": [
        "<a href=\"https://colab.research.google.com/github/Bhanuprakash157/assignment/blob/master/Untitled5.ipynb\" target=\"_parent\"><img src=\"https://colab.research.google.com/assets/colab-badge.svg\" alt=\"Open In Colab\"/></a>"
      ]
    },
    {
      "cell_type": "code",
      "metadata": {
        "id": "LXnyKS0aDh8V",
        "colab_type": "code",
        "colab": {}
      },
      "source": [
        ""
      ],
      "execution_count": null,
      "outputs": []
    },
    {
      "cell_type": "markdown",
      "metadata": {
        "id": "sMMynC6TDktB",
        "colab_type": "text"
      },
      "source": [
        "1.Question"
      ]
    },
    {
      "cell_type": "code",
      "metadata": {
        "id": "TJOCres3DqBt",
        "colab_type": "code",
        "colab": {
          "base_uri": "https://localhost:8080/",
          "height": 68
        },
        "outputId": "c5daf120-eb7d-47d1-c228-6ce3d5bd2949"
      },
      "source": [
        "n1=int (input ())\n",
        "n2=int (input ())\n",
        "if n1==n2:print ('numbers are equal')\n",
        "else:print ('numbers are not equal')"
      ],
      "execution_count": 2,
      "outputs": [
        {
          "output_type": "stream",
          "text": [
            "2\n",
            "3\n",
            "number are not equal\n"
          ],
          "name": "stdout"
        }
      ]
    },
    {
      "cell_type": "markdown",
      "metadata": {
        "id": "BSM0UVZHEagd",
        "colab_type": "text"
      },
      "source": [
        "2.Question"
      ]
    },
    {
      "cell_type": "code",
      "metadata": {
        "id": "WhEhcWHqEesO",
        "colab_type": "code",
        "colab": {
          "base_uri": "https://localhost:8080/",
          "height": 149
        },
        "outputId": "1e761dca-ef9e-4748-a9d9-481a90db59d5"
      },
      "source": [
        "n1=input ()\n",
        "n2=input ()\n",
        "n3=input ()\n",
        "if n1==n2==n3:print ('all are equal')\n",
        "elif n1==n2 or n2==n3 or n1==n3:\n",
        "print('any of two are equal')\n",
        "else:print ('none of them are equal')"
      ],
      "execution_count": 23,
      "outputs": [
        {
          "output_type": "error",
          "ename": "IndentationError",
          "evalue": "ignored",
          "traceback": [
            "\u001b[0;36m  File \u001b[0;32m\"<ipython-input-23-c7c6f53e2fc4>\"\u001b[0;36m, line \u001b[0;32m6\u001b[0m\n\u001b[0;31m    print('any of two are equal')\u001b[0m\n\u001b[0m        ^\u001b[0m\n\u001b[0;31mIndentationError\u001b[0m\u001b[0;31m:\u001b[0m expected an indented block\n"
          ]
        }
      ]
    },
    {
      "cell_type": "code",
      "metadata": {
        "id": "NUt2JIs-G7Kl",
        "colab_type": "code",
        "colab": {}
      },
      "source": [
        ""
      ],
      "execution_count": null,
      "outputs": []
    },
    {
      "cell_type": "markdown",
      "metadata": {
        "id": "AKwknjeMG_dX",
        "colab_type": "text"
      },
      "source": [
        "3.question"
      ]
    },
    {
      "cell_type": "code",
      "metadata": {
        "id": "buSkzB1xHBxQ",
        "colab_type": "code",
        "colab": {
          "base_uri": "https://localhost:8080/",
          "height": 68
        },
        "outputId": "90e95559-3df0-48ec-bb9c-933bd8eb0714"
      },
      "source": [
        "n1=int(input())\n",
        "n2=int (input())\n",
        "if n1+n2>5:print ('their sum is greater than 5')\n",
        "elif n1+n2>5:print('their sum is less than 5')\n",
        "else :print ('equal marks')"
      ],
      "execution_count": 18,
      "outputs": [
        {
          "output_type": "stream",
          "text": [
            "2\n",
            "5\n",
            "their sum is greater than 5\n"
          ],
          "name": "stdout"
        }
      ]
    },
    {
      "cell_type": "markdown",
      "metadata": {
        "id": "sSSUi4-hIYto",
        "colab_type": "text"
      },
      "source": [
        "4.question"
      ]
    },
    {
      "cell_type": "code",
      "metadata": {
        "id": "kKkd0Z5TIbO4",
        "colab_type": "code",
        "colab": {
          "base_uri": "https://localhost:8080/",
          "height": 51
        },
        "outputId": "6ccb5f6d-62c3-445c-f88d-874906ffb424"
      },
      "source": [
        "Mat=int(input (' marks'))\n",
        "if Mat>35:print (' greater than pass marks')\n",
        "elif Mat<35:print (' less than pass marks')\n",
        "else:print ('equal marks')"
      ],
      "execution_count": 19,
      "outputs": [
        {
          "output_type": "stream",
          "text": [
            " marks36\n",
            " greater than pass marks\n"
          ],
          "name": "stdout"
        }
      ]
    },
    {
      "cell_type": "markdown",
      "metadata": {
        "id": "Du9nHRbHJKRb",
        "colab_type": "text"
      },
      "source": [
        "5.question"
      ]
    },
    {
      "cell_type": "code",
      "metadata": {
        "id": "4xA5h8zDJMpQ",
        "colab_type": "code",
        "colab": {
          "base_uri": "https://localhost:8080/",
          "height": 85
        },
        "outputId": "9f37ebe4-fdd6-445a-9902-7c4f4b9bb6e1"
      },
      "source": [
        "N1=int (input ())\n",
        "N2=int (input ())\n",
        "N3= int (input ())\n",
        "if N1>N2 and N1>N3:print (' N1 is greater',N1)\n",
        "elif N2>N3:print ('N2 is greater',N2)\n",
        "else:print ('N3 is greater',N3)"
      ],
      "execution_count": 21,
      "outputs": [
        {
          "output_type": "stream",
          "text": [
            "5\n",
            "7\n",
            "10\n",
            "N3 is greater 10\n"
          ],
          "name": "stdout"
        }
      ]
    }
  ]
}