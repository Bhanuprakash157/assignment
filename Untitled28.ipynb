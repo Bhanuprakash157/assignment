{
  "nbformat": 4,
  "nbformat_minor": 0,
  "metadata": {
    "colab": {
      "name": "Untitled28.ipynb",
      "provenance": [],
      "authorship_tag": "ABX9TyPf/PFfuxiYkqFSFqqpC89a",
      "include_colab_link": true
    },
    "kernelspec": {
      "name": "python3",
      "display_name": "Python 3"
    }
  },
  "cells": [
    {
      "cell_type": "markdown",
      "metadata": {
        "id": "view-in-github",
        "colab_type": "text"
      },
      "source": [
        "<a href=\"https://colab.research.google.com/github/Bhanuprakash157/assignment/blob/master/Untitled28.ipynb\" target=\"_parent\"><img src=\"https://colab.research.google.com/assets/colab-badge.svg\" alt=\"Open In Colab\"/></a>"
      ]
    },
    {
      "cell_type": "markdown",
      "metadata": {
        "id": "gDhoj6k6WjbM",
        "colab_type": "text"
      },
      "source": [
        "Tuples"
      ]
    },
    {
      "cell_type": "code",
      "metadata": {
        "id": "4Vt1eJ5JWWrK",
        "colab_type": "code",
        "colab": {
          "base_uri": "https://localhost:8080/",
          "height": 170
        },
        "outputId": "fed6a802-9b1c-4867-ee90-a6a7ae3f3eb2"
      },
      "source": [
        " ##create a tuple\n",
        "tip=(10,20,30,50,60)\n",
        "print(tip)\n",
        " \n",
        "##diffrent datatypes\n",
        "star=(120,\"AA\",43.12)\n",
        "print(star)\n",
        " \n",
        "##tuple to string\n",
        "star=(\"icon\",\"AA\",\"Bunny\")\n",
        "my_fav=str(star)\n",
        "print(my_fav)\n",
        " \n",
        " \n",
        "##slice a tuple\n",
        "star=(120,\"icon\",22.2)\n",
        "king=star[:2]\n",
        "print(king)\n",
        " \n",
        " \n",
        "##find length of tuple\n",
        " \n",
        "star=(120,\"icon\",22.2)\n",
        "print( \" tuple length : \", len(star))\n",
        " \n",
        " \n",
        " \n",
        "##tuple to dictinary\n",
        "t=((1,'king'), (2,'queen'))\n",
        "a=dict((y, x) for x, y in t)\n",
        "print(a)\n",
        " \n",
        " \n",
        " \n",
        " \n",
        " \n",
        "##reverse a tuple\n",
        "star=(120,\"icon\",22.2,66,92)\n",
        "print(star[::-1])\n",
        " \n",
        " \n",
        "##list of tuples to dictinary \n",
        "my_list = [('king', 1), ('quuen', 2)]\n",
        "dict(my_list)\n",
        "print(my_list)\n",
        " \n",
        " \n",
        " \n",
        " \n",
        "##list to tuple\n",
        "a=[123,\"king\",77,99]\n",
        "print(tuple(a))"
      ],
      "execution_count": 1,
      "outputs": [
        {
          "output_type": "stream",
          "text": [
            "(10, 20, 30, 50, 60)\n",
            "(120, 'AA', 43.12)\n",
            "('icon', 'AA', 'Bunny')\n",
            "(120, 'icon')\n",
            " tuple length :  3\n",
            "{'king': 1, 'queen': 2}\n",
            "(92, 66, 22.2, 'icon', 120)\n",
            "[('king', 1), ('quuen', 2)]\n",
            "(123, 'king', 77, 99)\n"
          ],
          "name": "stdout"
        }
      ]
    }
  ]
}