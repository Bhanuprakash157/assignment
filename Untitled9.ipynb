{
  "nbformat": 4,
  "nbformat_minor": 0,
  "metadata": {
    "colab": {
      "name": "Untitled9.ipynb",
      "provenance": [],
      "authorship_tag": "ABX9TyPYqjVE4gTRpDCm0gyIM54/",
      "include_colab_link": true
    },
    "kernelspec": {
      "name": "python3",
      "display_name": "Python 3"
    }
  },
  "cells": [
    {
      "cell_type": "markdown",
      "metadata": {
        "id": "view-in-github",
        "colab_type": "text"
      },
      "source": [
        "<a href=\"https://colab.research.google.com/github/Bhanuprakash157/assignment/blob/master/Untitled9.ipynb\" target=\"_parent\"><img src=\"https://colab.research.google.com/assets/colab-badge.svg\" alt=\"Open In Colab\"/></a>"
      ]
    },
    {
      "cell_type": "code",
      "metadata": {
        "id": "D0Roo_qbEXNA",
        "colab_type": "code",
        "colab": {}
      },
      "source": [
        "1.write a python program to find  area of a circle using math function"
      ],
      "execution_count": null,
      "outputs": []
    },
    {
      "cell_type": "code",
      "metadata": {
        "id": "wrsWxaKRlfsL",
        "colab_type": "code",
        "colab": {
          "base_uri": "https://localhost:8080/",
          "height": 51
        },
        "outputId": "b315de9a-8f32-4dd5-d15e-388478bc5dd4"
      },
      "source": [
        "import math\n",
        "r = float(input ('enter the radius of a circle :'))\n",
        "area = math.pi*r*r\n",
        "print(\"%.2f\"%area )"
      ],
      "execution_count": 36,
      "outputs": [
        {
          "output_type": "stream",
          "text": [
            "enter the radius of a circle :6\n",
            "113.10\n"
          ],
          "name": "stdout"
        }
      ]
    },
    {
      "cell_type": "markdown",
      "metadata": {
        "id": "mAGwdX2lFDa-",
        "colab_type": "text"
      },
      "source": [
        " 2.write a python to find area of regular polygon using math function"
      ]
    },
    {
      "cell_type": "code",
      "metadata": {
        "id": "3XHJez5LojE5",
        "colab_type": "code",
        "colab": {
          "base_uri": "https://localhost:8080/",
          "height": 88
        },
        "outputId": "0aa75685-696f-425c-aa5a-842cc2a82b89"
      },
      "source": [
        "from math import tan,pi\n",
        "n_sides = int(input (\"input number of a sides:\"))\n",
        "s_length= float(input (\"intput the length of a side:\"))\n",
        "p_area = n_sides * (s_length ** 2) / (4 * tan(pi / n_sides))\n",
        "print(\"the area of the polygon is : \",p_area)"
      ],
      "execution_count": 13,
      "outputs": [
        {
          "output_type": "stream",
          "text": [
            "input number of a sides:4\n",
            "intput the length of a side:20\n",
            "the area of the polygon is :  400.00000000000006\n"
          ],
          "name": "stdout"
        }
      ]
    },
    {
      "cell_type": "markdown",
      "metadata": {
        "id": "oYW2lM1hoac2",
        "colab_type": "text"
      },
      "source": [
        " 4.write a program to shuffle list l1=[100,1,2,3,30,40,\"hai\",\"hello\"]"
      ]
    },
    {
      "cell_type": "code",
      "metadata": {
        "id": "5XnPFjskoMtY",
        "colab_type": "code",
        "colab": {
          "base_uri": "https://localhost:8080/",
          "height": 54
        },
        "outputId": "ce805177-3248-495a-f998-54da3ab0ef72"
      },
      "source": [
        " \n",
        " \n",
        "import random\n",
        "list=[100,1,2,3,30,40,\"hai\",\"hello\"];\n",
        "random.shuffle (list)\n",
        "print(list)"
      ],
      "execution_count": 2,
      "outputs": [
        {
          "output_type": "stream",
          "text": [
            "[30, 2, 3, 40, 'hello', 1, 100, 'hai']\n"
          ],
          "name": "stdout"
        }
      ]
    },
    {
      "cell_type": "markdown",
      "metadata": {
        "id": "03TEdPRVoyQs",
        "colab_type": "text"
      },
      "source": [
        " 5.write a program to generate random numbers between 110000 and difference between them is 50"
      ]
    },
    {
      "cell_type": "code",
      "metadata": {
        "id": "jDZmTG3cotX_",
        "colab_type": "code",
        "colab": {
          "base_uri": "https://localhost:8080/",
          "height": 54
        },
        "outputId": "c6fefe9b-5163-4bae-ec2a-c6decb67d333"
      },
      "source": [
        " \n",
        "import random\n",
        "print('random number with difference 50 is', random.randrange(0,110000,50))"
      ],
      "execution_count": 3,
      "outputs": [
        {
          "output_type": "stream",
          "text": [
            "random number with difference 50 is 11450\n"
          ],
          "name": "stdout"
        }
      ]
    },
    {
      "cell_type": "markdown",
      "metadata": {
        "id": "cikaPN8CFvhj",
        "colab_type": "text"
      },
      "source": [
        "6.write a python program by using math module to find 1) sin60°2)cos(pi)3)tan90°4)angle of sin(0.8660254037844386)5.5*86 6) square root of 400 7)the value of 5^e  8)the value of log(1024),base2 9)the value of  log(1024),base10  10) the floor and ceiling value of 23.56"
      ]
    },
    {
      "cell_type": "code",
      "metadata": {
        "id": "jeugqLWGq9IU",
        "colab_type": "code",
        "colab": {
          "base_uri": "https://localhost:8080/",
          "height": 34
        },
        "outputId": "0c084a63-82c4-4d06-d98d-0e30b621215e"
      },
      "source": [
        "import math \n",
        "math .cos(pi)"
      ],
      "execution_count": 14,
      "outputs": [
        {
          "output_type": "execute_result",
          "data": {
            "text/plain": [
              "-1.0"
            ]
          },
          "metadata": {
            "tags": []
          },
          "execution_count": 14
        }
      ]
    },
    {
      "cell_type": "code",
      "metadata": {
        "id": "_jRBk8gwujTt",
        "colab_type": "code",
        "colab": {
          "base_uri": "https://localhost:8080/",
          "height": 34
        },
        "outputId": "816b1728-4e93-4a5b-afc1-a22ceb6b82a7"
      },
      "source": [
        "math.sin(60)"
      ],
      "execution_count": 15,
      "outputs": [
        {
          "output_type": "execute_result",
          "data": {
            "text/plain": [
              "-0.3048106211022167"
            ]
          },
          "metadata": {
            "tags": []
          },
          "execution_count": 15
        }
      ]
    },
    {
      "cell_type": "code",
      "metadata": {
        "id": "ZfGkVGdsu1hw",
        "colab_type": "code",
        "colab": {
          "base_uri": "https://localhost:8080/",
          "height": 34
        },
        "outputId": "d426d2fe-4bdc-4618-afab-ef69727c0412"
      },
      "source": [
        "math.tan(90)"
      ],
      "execution_count": 16,
      "outputs": [
        {
          "output_type": "execute_result",
          "data": {
            "text/plain": [
              "-1.995200412208242"
            ]
          },
          "metadata": {
            "tags": []
          },
          "execution_count": 16
        }
      ]
    },
    {
      "cell_type": "code",
      "metadata": {
        "id": "VuqeiuARvAyc",
        "colab_type": "code",
        "colab": {
          "base_uri": "https://localhost:8080/",
          "height": 34
        },
        "outputId": "c0cb4c72-2a66-4f1a-8662-b4be189f8bf0"
      },
      "source": [
        "math.sin(0.8660254037844386)"
      ],
      "execution_count": 31,
      "outputs": [
        {
          "output_type": "execute_result",
          "data": {
            "text/plain": [
              "0.7617599814162892"
            ]
          },
          "metadata": {
            "tags": []
          },
          "execution_count": 31
        }
      ]
    },
    {
      "cell_type": "code",
      "metadata": {
        "id": "SYQgGqF5vX85",
        "colab_type": "code",
        "colab": {
          "base_uri": "https://localhost:8080/",
          "height": 34
        },
        "outputId": "11a69ee9-6413-4d14-9a2b-9f2d954c49bf"
      },
      "source": [
        "math.sqrt(400)"
      ],
      "execution_count": 20,
      "outputs": [
        {
          "output_type": "execute_result",
          "data": {
            "text/plain": [
              "20.0"
            ]
          },
          "metadata": {
            "tags": []
          },
          "execution_count": 20
        }
      ]
    },
    {
      "cell_type": "code",
      "metadata": {
        "id": "OVEt0-oUvina",
        "colab_type": "code",
        "colab": {
          "base_uri": "https://localhost:8080/",
          "height": 34
        },
        "outputId": "3a2e54e7-cad9-4988-8ade-eabe561c50f0"
      },
      "source": [
        "math.log(1024/2)"
      ],
      "execution_count": 21,
      "outputs": [
        {
          "output_type": "execute_result",
          "data": {
            "text/plain": [
              "6.238324625039508"
            ]
          },
          "metadata": {
            "tags": []
          },
          "execution_count": 21
        }
      ]
    },
    {
      "cell_type": "code",
      "metadata": {
        "id": "TQjhUlnJvtv4",
        "colab_type": "code",
        "colab": {
          "base_uri": "https://localhost:8080/",
          "height": 34
        },
        "outputId": "ff1a3230-d0d8-44f3-a304-845cba2f8642"
      },
      "source": [
        "math.log(1024/10)"
      ],
      "execution_count": 22,
      "outputs": [
        {
          "output_type": "execute_result",
          "data": {
            "text/plain": [
              "4.628886712605407"
            ]
          },
          "metadata": {
            "tags": []
          },
          "execution_count": 22
        }
      ]
    },
    {
      "cell_type": "code",
      "metadata": {
        "id": "M3BDg4FBv4rW",
        "colab_type": "code",
        "colab": {
          "base_uri": "https://localhost:8080/",
          "height": 34
        },
        "outputId": "e432549c-3a7b-4802-dafa-e5db98b93dc3"
      },
      "source": [
        "math.floor(23.56)"
      ],
      "execution_count": 28,
      "outputs": [
        {
          "output_type": "execute_result",
          "data": {
            "text/plain": [
              "23"
            ]
          },
          "metadata": {
            "tags": []
          },
          "execution_count": 28
        }
      ]
    },
    {
      "cell_type": "code",
      "metadata": {
        "id": "qVovCAdQv-ut",
        "colab_type": "code",
        "colab": {
          "base_uri": "https://localhost:8080/",
          "height": 34
        },
        "outputId": "1f44d567-15ba-4e04-bdd7-0e39d291fe89"
      },
      "source": [
        "math.ceil(23.56)"
      ],
      "execution_count": 30,
      "outputs": [
        {
          "output_type": "execute_result",
          "data": {
            "text/plain": [
              "24"
            ]
          },
          "metadata": {
            "tags": []
          },
          "execution_count": 30
        }
      ]
    },
    {
      "cell_type": "code",
      "metadata": {
        "id": "qAc7i75KBJZS",
        "colab_type": "code",
        "colab": {
          "base_uri": "https://localhost:8080/",
          "height": 34
        },
        "outputId": "0b942c4d-472b-4322-db65-497226c49b7a"
      },
      "source": [
        " \n",
        "import math\n",
        "math.pow(5,8)"
      ],
      "execution_count": 6,
      "outputs": [
        {
          "output_type": "execute_result",
          "data": {
            "text/plain": [
              "390625.0"
            ]
          },
          "metadata": {
            "tags": []
          },
          "execution_count": 6
        }
      ]
    }
  ]
}