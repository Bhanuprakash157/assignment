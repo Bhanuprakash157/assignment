{
  "nbformat": 4,
  "nbformat_minor": 0,
  "metadata": {
    "colab": {
      "name": "Untitled26.ipynb",
      "provenance": [],
      "authorship_tag": "ABX9TyPRZB2urjbM1H7dazPo/qdy",
      "include_colab_link": true
    },
    "kernelspec": {
      "name": "python3",
      "display_name": "Python 3"
    }
  },
  "cells": [
    {
      "cell_type": "markdown",
      "metadata": {
        "id": "view-in-github",
        "colab_type": "text"
      },
      "source": [
        "<a href=\"https://colab.research.google.com/github/Bhanuprakash157/assignment/blob/master/Untitled26.ipynb\" target=\"_parent\"><img src=\"https://colab.research.google.com/assets/colab-badge.svg\" alt=\"Open In Colab\"/></a>"
      ]
    },
    {
      "cell_type": "markdown",
      "metadata": {
        "id": "1UZCz-AEKZ--",
        "colab_type": "text"
      },
      "source": [
        "1.Program to sum all the items in a list"
      ]
    },
    {
      "cell_type": "code",
      "metadata": {
        "id": "sCxq4WYTGpc7",
        "colab_type": "code",
        "colab": {
          "base_uri": "https://localhost:8080/",
          "height": 136
        },
        "outputId": "7e219460-782a-40b8-d4bd-c8131936d0da"
      },
      "source": [
        " a=[]\n",
        "sum=0\n",
        "b=int(input(\"number of elements??:\"))\n",
        "for i in range(b):\n",
        "    c=int(input(\"enter elements into list :\"))\n",
        "    a.append(c)\n",
        "    sum+=c\n",
        "    \n",
        "print(a)\n",
        "print(sum)"
      ],
      "execution_count": 1,
      "outputs": [
        {
          "output_type": "stream",
          "text": [
            "number of elements??:4\n",
            "enter elements into list :3\n",
            "enter elements into list :4\n",
            "enter elements into list :1\n",
            "enter elements into list :5\n",
            "[3, 4, 1, 5]\n",
            "13\n"
          ],
          "name": "stdout"
        }
      ]
    },
    {
      "cell_type": "markdown",
      "metadata": {
        "id": "FKU1nIREL4Jg",
        "colab_type": "text"
      },
      "source": [
        " 2.program to create a list of empty dictionaries"
      ]
    },
    {
      "cell_type": "code",
      "metadata": {
        "id": "4mfV3sTdHjJH",
        "colab_type": "code",
        "colab": {
          "base_uri": "https://localhost:8080/",
          "height": 34
        },
        "outputId": "31516dda-5c90-4879-db5a-af1c6faea941"
      },
      "source": [
        " n = 3\n",
        "l = [{} for a in range(n)]\n",
        "print(l)"
      ],
      "execution_count": 2,
      "outputs": [
        {
          "output_type": "stream",
          "text": [
            "[{}, {}, {}]\n"
          ],
          "name": "stdout"
        }
      ]
    },
    {
      "cell_type": "markdown",
      "metadata": {
        "id": "deg05ONcMGmo",
        "colab_type": "text"
      },
      "source": [
        "3.program to access dictionary key element by index"
      ]
    },
    {
      "cell_type": "code",
      "metadata": {
        "id": "U3LbVnyZHsJZ",
        "colab_type": "code",
        "colab": {
          "base_uri": "https://localhost:8080/",
          "height": 34
        },
        "outputId": "0b4c3b37-ac77-4177-eed0-2d53399619b5"
      },
      "source": [
        " acc = {'randomforest': 80, 'decisiontree': 90, 'SVM': 86}\n",
        "print(list(acc)[2])"
      ],
      "execution_count": 3,
      "outputs": [
        {
          "output_type": "stream",
          "text": [
            "SVM\n"
          ],
          "name": "stdout"
        }
      ]
    },
    {
      "cell_type": "markdown",
      "metadata": {
        "id": "rT4s2oYXMUiQ",
        "colab_type": "text"
      },
      "source": [
        "4.program to literate over dictionaries using for loops"
      ]
    },
    {
      "cell_type": "code",
      "metadata": {
        "id": "Dvqp93mIHwF0",
        "colab_type": "code",
        "colab": {
          "base_uri": "https://localhost:8080/",
          "height": 68
        },
        "outputId": "10fe5b3f-547b-46da-b359-a20f88515391"
      },
      "source": [
        " #model = {'randomforest': 1, 'SVM': 2, 'SVC': 3} #for name,num in model.items():\n",
        " #    print(name, 'is : ', model[num]) \n",
        "        \n",
        "        \n",
        "d = {'perk': 1, 'fivestar': 2, 'munch': 3} \n",
        "for key, value in d.items():\n",
        "     print(key, 'is: ', d[key])"
      ],
      "execution_count": 9,
      "outputs": [
        {
          "output_type": "stream",
          "text": [
            "perk is:  1\n",
            "fivestar is:  2\n",
            "munch is:  3\n"
          ],
          "name": "stdout"
        }
      ]
    },
    {
      "cell_type": "markdown",
      "metadata": {
        "id": "k-pE54X6Mq4j",
        "colab_type": "text"
      },
      "source": [
        "5.program to sum all the items in a dictionary"
      ]
    },
    {
      "cell_type": "code",
      "metadata": {
        "id": "wCWbo-QuH_qr",
        "colab_type": "code",
        "colab": {
          "base_uri": "https://localhost:8080/",
          "height": 51
        },
        "outputId": "935e18d6-921d-45fb-fb35-af96fec5f1d6"
      },
      "source": [
        " \n",
        "my_dict = {'data1':100,'data2':-54,'data3':247}\n",
        "a=list((my_dict.values()))\n",
        "sum=0\n",
        "for i in a:\n",
        "    sum+=i    \n",
        "print(a)\n",
        "print(sum)"
      ],
      "execution_count": 8,
      "outputs": [
        {
          "output_type": "stream",
          "text": [
            "[100, -54, 247]\n",
            "293\n"
          ],
          "name": "stdout"
        }
      ]
    },
    {
      "cell_type": "markdown",
      "metadata": {
        "id": "uXjL5k_2NFrS",
        "colab_type": "text"
      },
      "source": [
        "6.Script to concatenate following dictionaries to create a new one.sample Dictionary"
      ]
    },
    {
      "cell_type": "code",
      "metadata": {
        "id": "yt-wOLUfJN-x",
        "colab_type": "code",
        "colab": {
          "base_uri": "https://localhost:8080/",
          "height": 54
        },
        "outputId": "dc83e356-c9f9-4fe4-bee1-f1bb2f928d55"
      },
      "source": [
        " \n",
        " \n",
        " \n",
        "#dict1={1:10,2:20}\n",
        "#dict2={3:30,4:40}\n",
        "#dict3={5:50,6:60}\n",
        " \n",
        " \n",
        "#d4 = dict(dict1.items() + dict2.items() + dict3.items()) ## does not work on python3\n",
        "#print(d4)\n",
        " \n",
        " \n",
        "dic1={1:10, 2:20}\n",
        "dic2={3:30, 4:40}\n",
        "dic3={5:50,6:60}\n",
        "dic4 = {}\n",
        "for d in (dic1, dic2, dic3):\n",
        "    dic4.update(d)                       ##update\n",
        "print(dic4)"
      ],
      "execution_count": 7,
      "outputs": [
        {
          "output_type": "stream",
          "text": [
            "{1: 10, 2: 20, 3: 30, 4: 40, 5: 50, 6: 60}\n"
          ],
          "name": "stdout"
        }
      ]
    }
  ]
}