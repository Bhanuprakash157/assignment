{
  "nbformat": 4,
  "nbformat_minor": 0,
  "metadata": {
    "colab": {
      "name": "Untitled17.ipynb",
      "provenance": [],
      "authorship_tag": "ABX9TyMWh7vNoxvltJBwv5jSDiRI",
      "include_colab_link": true
    },
    "kernelspec": {
      "name": "python3",
      "display_name": "Python 3"
    }
  },
  "cells": [
    {
      "cell_type": "markdown",
      "metadata": {
        "id": "view-in-github",
        "colab_type": "text"
      },
      "source": [
        "<a href=\"https://colab.research.google.com/github/Bhanuprakash157/assignment/blob/master/Untitled17.ipynb\" target=\"_parent\"><img src=\"https://colab.research.google.com/assets/colab-badge.svg\" alt=\"Open In Colab\"/></a>"
      ]
    },
    {
      "cell_type": "code",
      "metadata": {
        "id": "s_LnqiaqWqdZ",
        "colab_type": "code",
        "colab": {}
      },
      "source": [
        ""
      ],
      "execution_count": null,
      "outputs": []
    },
    {
      "cell_type": "markdown",
      "metadata": {
        "id": "1GxIusW7Wssf",
        "colab_type": "text"
      },
      "source": [
        "1.count occurrences of chars:"
      ]
    },
    {
      "cell_type": "code",
      "metadata": {
        "id": "MtgnfeGrW3cd",
        "colab_type": "code",
        "colab": {
          "base_uri": "https://localhost:8080/",
          "height": 88
        },
        "outputId": "872d9f8f-9e25-4efc-bc03-d11aa32ae8e4"
      },
      "source": [
        "a=input(\"enter a string :\")\n",
        " \n",
        "b=a.strip ().lower ()\n",
        " \n",
        "all_freq ={}\n",
        " \n",
        "for i in b:\n",
        "    if i in all_freq:\n",
        "        all_freq[i] += 1\n",
        "    else:\n",
        "        all_freq[i] = 1\n",
        " \n",
        "print (\"Count of all characters in your string is :\\n \"+ str\n",
        "(all_freq))"
      ],
      "execution_count": 2,
      "outputs": [
        {
          "output_type": "stream",
          "text": [
            "enter a string :str\n",
            " count of all characters in your string is :\n",
            " {'s': 1, 't': 1, 'r': 1}\n"
          ],
          "name": "stdout"
        }
      ]
    },
    {
      "cell_type": "markdown",
      "metadata": {
        "id": "TXKriPhFYUoM",
        "colab_type": "text"
      },
      "source": [
        "2.return average and sum of digits in string"
      ]
    },
    {
      "cell_type": "code",
      "metadata": {
        "id": "qKu2F-wnYgAy",
        "colab_type": "code",
        "colab": {}
      },
      "source": [
        "try: \n",
        "           num=int(input(\"enter a number :\"))\n",
        "                i=0\n",
        "                sum=0\n",
        "                num1=num\n",
        "                while (num>0):\n",
        "                     i=i+1\n",
        "                     rem=num%10\n",
        "                     sum+=rem\n",
        "                     num=num//10\n",
        "                print(\"sum:\",sum)\n",
        "                print(\"average :\",sum/i)\n",
        "              except:\n",
        "                    print(\"please enter valid input..!!\")\n",
        "              finally:\n",
        "                    print(\"THANK YOU...!!\")"
      ],
      "execution_count": null,
      "outputs": []
    },
    {
      "cell_type": "markdown",
      "metadata": {
        "id": "spGwEhACbI6l",
        "colab_type": "text"
      },
      "source": [
        "3.count lowercase,uppercase,digits chars:"
      ]
    },
    {
      "cell_type": "code",
      "metadata": {
        "id": "fkUtF7fQbhz0",
        "colab_type": "code",
        "colab": {
          "base_uri": "https://localhost:8080/",
          "height": 88
        },
        "outputId": "96645e5e-3439-435c-f70d-9bb3520f8078"
      },
      "source": [
        "a=input(\"enter a string :\")\n",
        "all_freq = {}\n",
        " \n",
        " \n",
        "for i in a:\n",
        "    if i in all_freq:\n",
        "        all_freq[i] += 1\n",
        "    else:\n",
        "        all_freq[i] = 1\n",
        " \n",
        " \n",
        "print(\"count of all characters in your string is :\\n \"+  str\n",
        "(all_freq))"
      ],
      "execution_count": 6,
      "outputs": [
        {
          "output_type": "stream",
          "text": [
            "enter a string :Strr¥¥\n",
            "count of all characters in your string is :\n",
            " {'S': 1, 't': 1, 'r': 2, '¥': 2}\n"
          ],
          "name": "stdout"
        }
      ]
    },
    {
      "cell_type": "markdown",
      "metadata": {
        "id": "TD82QBoVcvlN",
        "colab_type": "text"
      },
      "source": [
        "4.Arrange strings lowercase first.."
      ]
    },
    {
      "cell_type": "code",
      "metadata": {
        "id": "3RSNA6S4c7oG",
        "colab_type": "code",
        "colab": {
          "base_uri": "https://localhost:8080/",
          "height": 51
        },
        "outputId": "06e45cfa-f67c-4d4d-d274-689e05b47276"
      },
      "source": [
        "c=input(\"enter a string\")\n",
        "sorted(c,key=str.lower)"
      ],
      "execution_count": 7,
      "outputs": [
        {
          "output_type": "stream",
          "text": [
            "enter a stringram\n"
          ],
          "name": "stdout"
        },
        {
          "output_type": "execute_result",
          "data": {
            "text/plain": [
              "['a', 'm', 'r']"
            ]
          },
          "metadata": {
            "tags": []
          },
          "execution_count": 7
        }
      ]
    },
    {
      "cell_type": "markdown",
      "metadata": {
        "id": "P1WC8ekHdQv_",
        "colab_type": "text"
      },
      "source": [
        "5.Appending in middle"
      ]
    },
    {
      "cell_type": "code",
      "metadata": {
        "id": "Gti5o11GdXCa",
        "colab_type": "code",
        "colab": {
          "base_uri": "https://localhost:8080/",
          "height": 68
        },
        "outputId": "fed418a2-59ae-4110-8137-7354fe691c35"
      },
      "source": [
        "s1=input (\"enter string 1 :\")\n",
        "s2=input(\"enter string 2 :\")\n",
        " \n",
        "a=( len(s1)//2)\n",
        " \n",
        "str=s1[:a]+s2+s1[a:]\n",
        "print(str)"
      ],
      "execution_count": 8,
      "outputs": [
        {
          "output_type": "stream",
          "text": [
            "enter string 1 :Hello\n",
            "enter string 2 :World\n",
            "HeWorldllo\n"
          ],
          "name": "stdout"
        }
      ]
    }
  ]
}