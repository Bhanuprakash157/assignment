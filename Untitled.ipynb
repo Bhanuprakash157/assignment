{
  "nbformat": 4,
  "nbformat_minor": 0,
  "metadata": {
    "colab": {
      "name": "Untitled",
      "provenance": [],
      "authorship_tag": "ABX9TyOHFqApxDw/IXflHtw7WfFr",
      "include_colab_link": true
    },
    "kernelspec": {
      "name": "python3",
      "display_name": "Python 3"
    }
  },
  "cells": [
    {
      "cell_type": "markdown",
      "metadata": {
        "id": "view-in-github",
        "colab_type": "text"
      },
      "source": [
        "<a href=\"https://colab.research.google.com/github/Bhanuprakash157/assignment/blob/master/Untitled.ipynb\" target=\"_parent\"><img src=\"https://colab.research.google.com/assets/colab-badge.svg\" alt=\"Open In Colab\"/></a>"
      ]
    },
    {
      "cell_type": "code",
      "metadata": {
        "id": "LhSyNlUKPveK",
        "colab_type": "code",
        "colab": {}
      },
      "source": [
        ""
      ],
      "execution_count": null,
      "outputs": []
    },
    {
      "cell_type": "markdown",
      "metadata": {
        "id": "HFraEI6NPxLu",
        "colab_type": "text"
      },
      "source": [
        "1.count the number of vowels in string"
      ]
    },
    {
      "cell_type": "code",
      "metadata": {
        "id": "EmgOiDUJP3my",
        "colab_type": "code",
        "colab": {}
      },
      "source": [
        "a =input (\" enter your string:\")\n",
        " \n",
        "vowels='aeiou'\n",
        "count=0\n",
        "for s in string:\n",
        "    if s in vowels:\n",
        "         count=count+1\n",
        "print(\"\",count)"
      ],
      "execution_count": null,
      "outputs": []
    },
    {
      "cell_type": "markdown",
      "metadata": {
        "id": "pMe3NwkCQhUi",
        "colab_type": "text"
      },
      "source": [
        " 2.Remove all duplicates"
      ]
    },
    {
      "cell_type": "code",
      "metadata": {
        "id": "2_2XRzxBQpG1",
        "colab_type": "code",
        "colab": {}
      },
      "source": [
        "word= input (\"enter your string:\")\n",
        "NewWord= \" \"\n",
        "index = 0\n",
        "for char in word:\n",
        "  if char !=NewWord[index]:\n",
        "          NewWord += char\n",
        "print(NewWord.strip())"
      ],
      "execution_count": null,
      "outputs": []
    },
    {
      "cell_type": "markdown",
      "metadata": {
        "id": "IMD-UklURmUe",
        "colab_type": "text"
      },
      "source": [
        "3.Print even words"
      ]
    },
    {
      "cell_type": "code",
      "metadata": {
        "id": "KHUXdB2mRrVF",
        "colab_type": "code",
        "colab": {}
      },
      "source": [
        "d=input (\" enter the string:\")\n",
        " \n",
        "word = d.split ()\n",
        "j=0\n",
        "for i in words:\n",
        "    if(len(word[j]%2==0):\n",
        "         print (\"words are :\",i)\n",
        " \n",
        "         j=j+1"
      ],
      "execution_count": null,
      "outputs": []
    },
    {
      "cell_type": "markdown",
      "metadata": {
        "id": "IYl7yYTmSo2s",
        "colab_type": "text"
      },
      "source": [
        "4.Reverse words in string"
      ]
    },
    {
      "cell_type": "code",
      "metadata": {
        "id": "J1-UyZu0S7QW",
        "colab_type": "code",
        "colab": {}
      },
      "source": [
        "e=input (\"enter the string:\")\n",
        " \n",
        "words = e.split()\n",
        " \n",
        " for i in words:\n",
        "    print(\"\",words[::-1])"
      ],
      "execution_count": null,
      "outputs": []
    },
    {
      "cell_type": "markdown",
      "metadata": {
        "id": "foqxe1_vUqUz",
        "colab_type": "text"
      },
      "source": [
        " 5.String is binary or not...?"
      ]
    },
    {
      "cell_type": "code",
      "metadata": {
        "id": "-mTh7aIsVADk",
        "colab_type": "code",
        "colab": {}
      },
      "source": [
        "k=input(\" enter your string:\")\n",
        " \n",
        "i=0\n",
        "j=1\n",
        "while (i<len (k)):\n",
        "    if(k[i]==\"0\" or k[i]==\"1\"):\n",
        "           print(\"IIS A BINARY STRING\")\n",
        " \n",
        "           break\n",
        " \n",
        "       else:\n",
        "           j=0\n",
        "           i=i+1\n",
        " \n",
        "if (j==0):\n",
        "   print(\" NOPE NOT A BINARY STRING\")"
      ],
      "execution_count": null,
      "outputs": []
    },
    {
      "cell_type": "code",
      "metadata": {
        "id": "8L5UVcXZWZ5x",
        "colab_type": "code",
        "colab": {}
      },
      "source": [
        ""
      ],
      "execution_count": null,
      "outputs": []
    }
  ]
}