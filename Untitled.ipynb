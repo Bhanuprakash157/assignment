{
  "nbformat": 4,
  "nbformat_minor": 0,
  "metadata": {
    "colab": {
      "name": "Untitled",
      "provenance": [],
      "authorship_tag": "ABX9TyMGAmDbNQz17OS3q2GHDUS7",
      "include_colab_link": true
    },
    "kernelspec": {
      "name": "python3",
      "display_name": "Python 3"
    }
  },
  "cells": [
    {
      "cell_type": "markdown",
      "metadata": {
        "id": "view-in-github",
        "colab_type": "text"
      },
      "source": [
        "<a href=\"https://colab.research.google.com/github/Bhanuprakash157/assignment/blob/master/Untitled.ipynb\" target=\"_parent\"><img src=\"https://colab.research.google.com/assets/colab-badge.svg\" alt=\"Open In Colab\"/></a>"
      ]
    },
    {
      "cell_type": "code",
      "metadata": {
        "id": "U5-XHAHhnrSa",
        "colab_type": "code",
        "colab": {}
      },
      "source": [
        ""
      ],
      "execution_count": null,
      "outputs": []
    },
    {
      "cell_type": "markdown",
      "metadata": {
        "id": "Se1Qr97intgg",
        "colab_type": "text"
      },
      "source": [
        "Conditional printing"
      ]
    },
    {
      "cell_type": "code",
      "metadata": {
        "id": "5wvOmCDKn1bJ",
        "colab_type": "code",
        "colab": {
          "base_uri": "https://localhost:8080/",
          "height": 340
        },
        "outputId": "b487da5f-091c-41e5-f9ee-8a792c143c5b"
      },
      "source": [
        "#for multiples of 3:fizz\n",
        "#for multiples of 5:buzz\n",
        "#for both:fizzbuzz\n",
        " \n",
        " \n",
        " \n",
        "for i in range (1,20):\n",
        "    if i%3==0 and i%5==0:\n",
        "        print(\"FIZZBUZZ\")\n",
        "    elif i%5==0:\n",
        "        print(\"BUZZ\")\n",
        "    elif i%3==0:\n",
        "        print(\"FIZZ\")\n",
        "    else:\n",
        "        print(\"\",i)"
      ],
      "execution_count": null,
      "outputs": [
        {
          "output_type": "stream",
          "text": [
            " 1\n",
            " 2\n",
            "FIZZ\n",
            " 4\n",
            "BUZZ\n",
            "FIZZ\n",
            " 7\n",
            " 8\n",
            "FIZZ\n",
            "BUZZ\n",
            " 11\n",
            "FIZZ\n",
            " 13\n",
            " 14\n",
            "FIZZBUZZ\n",
            " 16\n",
            " 17\n",
            "FIZZ\n",
            " 19\n"
          ],
          "name": "stdout"
        }
      ]
    },
    {
      "cell_type": "markdown",
      "metadata": {
        "id": "_f_KDPUgp8CN",
        "colab_type": "text"
      },
      "source": [
        "Remove consecutive duplicates from list"
      ]
    },
    {
      "cell_type": "code",
      "metadata": {
        "id": "AtM5TJ0kqVDS",
        "colab_type": "code",
        "colab": {
          "base_uri": "https://localhost:8080/",
          "height": 34
        },
        "outputId": "ce921df1-f422-412a-ad3e-febf494130ec"
      },
      "source": [
        "list =[1,1,1,1,1,1,2,3,4,4,5,1,3]\n",
        "i=0\n",
        "dope=False\n",
        " \n",
        "while i < len(list)-1:\n",
        "    if list [i]== list [i+1]:\n",
        "         del list[i]\n",
        "         dope = True\n",
        "    elif dope:\n",
        "          del list[i]\n",
        "          dope = False\n",
        "    else:\n",
        "        i += 1\n",
        "print (list)"
      ],
      "execution_count": null,
      "outputs": [
        {
          "output_type": "stream",
          "text": [
            "[2, 3, 5, 1, 3]\n"
          ],
          "name": "stdout"
        }
      ]
    },
    {
      "cell_type": "markdown",
      "metadata": {
        "id": "tTAGGUN8slW-",
        "colab_type": "text"
      },
      "source": [
        "Unique element in list"
      ]
    },
    {
      "cell_type": "code",
      "metadata": {
        "id": "tR9YblPZsujf",
        "colab_type": "code",
        "colab": {
          "base_uri": "https://localhost:8080/",
          "height": 85
        },
        "outputId": "47720bc5-6fe1-4aad-e9de-6faa900dd7a1"
      },
      "source": [
        "lst = []\n",
        "n = int(input(\"enter number of elements :\"))\n",
        "for i in range(0, n):\n",
        "     ele = int(input(\"enter your elements :\"))\n",
        "     lst.append(ele)\n",
        "print(\" your previous list:\",lst)"
      ],
      "execution_count": null,
      "outputs": [
        {
          "output_type": "stream",
          "text": [
            "enter number of elements :2\n",
            "enter your elements :10\n",
            "enter your elements :3\n",
            " your previous list: [10, 3]\n"
          ],
          "name": "stdout"
        }
      ]
    },
    {
      "cell_type": "markdown",
      "metadata": {
        "id": "fGKf6betQove",
        "colab_type": "text"
      },
      "source": [
        "Unique element in list"
      ]
    },
    {
      "cell_type": "code",
      "metadata": {
        "id": "ygyNdYvSQwB9",
        "colab_type": "code",
        "colab": {
          "base_uri": "https://localhost:8080/",
          "height": 156
        },
        "outputId": "29b5cedd-9a33-45b8-d68e-e8ff28f6c545"
      },
      "source": [
        "lst= []\n",
        "n= int (input (\"enter number of elements : \"))\n",
        "for i in range (0, n):\n",
        "    ele = int(input (\" enter your elements:\"))\n",
        "    lst.append(ele)\n",
        "print(\" your previous list :\",lst)\n",
        "   \n",
        " \n",
        "lst2=[]\n",
        " \n",
        "for x in lst:\n",
        "    if x not in lst2:\n",
        "         lst2.append(x)\n",
        "print (\"your new list:\",lst2)"
      ],
      "execution_count": 26,
      "outputs": [
        {
          "output_type": "stream",
          "text": [
            "enter number of elements : 4\n",
            " enter your elements:10\n",
            " enter your elements:5\n",
            " enter your elements:2\n",
            " enter your elements:10\n",
            " your previous list : [10, 5, 2, 10]\n",
            "your new list: [10, 5, 2]\n"
          ],
          "name": "stdout"
        }
      ]
    },
    {
      "cell_type": "markdown",
      "metadata": {
        "id": "k6cv6OLPSjFQ",
        "colab_type": "text"
      },
      "source": [
        "Function to check number is in range"
      ]
    },
    {
      "cell_type": "code",
      "metadata": {
        "id": "eB-HWVLbSsVf",
        "colab_type": "code",
        "colab": {}
      },
      "source": [
        "def check ():\n",
        "    a=int (input (\" enter value to check:\"))\n",
        "    b=int (input(\"enter the minimum range:\"))\n",
        "    c=int (input (\" enter the maximum:\"))\n",
        "    j=0\n",
        "    for i in range (b,c+1):\n",
        "        if(i==a):\n",
        "             j=1\n",
        "             break\n",
        "        else:\n",
        "             j=0\n",
        "     \n",
        "    if (j==1):\n",
        "           print (\" yes..its in!\")\n",
        "    else:\n",
        "           print (\" nope..not in range!\")"
      ],
      "execution_count": 27,
      "outputs": []
    },
    {
      "cell_type": "markdown",
      "metadata": {
        "id": "KGK4etPEUs3n",
        "colab_type": "text"
      },
      "source": [
        "Calculate number of upper and lower cases"
      ]
    },
    {
      "cell_type": "code",
      "metadata": {
        "id": "oKCGGbpnVOU_",
        "colab_type": "code",
        "colab": {}
      },
      "source": [
        "def cnt ():\n",
        " \n",
        "      s1=input (\"enter a string:\").strip ()\n",
        "      count=0\n",
        "      countu=0\n",
        "      for i in s1:\n",
        "          if(i.islower()):\n",
        "                count+=1\n",
        "          elif (i.isupper()):\n",
        "                countu+=1\n",
        "          else:\n",
        "              pass\n",
        " \n",
        "          print (\"THE NUMBER OF UPPER CASES ARE :\",countu)\n",
        "          print(\"THE NUMBER OF LOWER CASES ARE :\",count)"
      ],
      "execution_count": 34,
      "outputs": []
    }
  ]
}