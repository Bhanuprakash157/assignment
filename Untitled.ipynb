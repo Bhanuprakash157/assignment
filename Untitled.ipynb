{
  "nbformat": 4,
  "nbformat_minor": 0,
  "metadata": {
    "colab": {
      "name": "Untitled",
      "provenance": [],
      "authorship_tag": "ABX9TyOIOvnvkDdjZD5RAUhtwcxw",
      "include_colab_link": true
    },
    "kernelspec": {
      "name": "python3",
      "display_name": "Python 3"
    }
  },
  "cells": [
    {
      "cell_type": "markdown",
      "metadata": {
        "id": "view-in-github",
        "colab_type": "text"
      },
      "source": [
        "<a href=\"https://colab.research.google.com/github/Bhanuprakash157/assignment/blob/master/Untitled.ipynb\" target=\"_parent\"><img src=\"https://colab.research.google.com/assets/colab-badge.svg\" alt=\"Open In Colab\"/></a>"
      ]
    },
    {
      "cell_type": "code",
      "metadata": {
        "id": "Z2aQxmgm4rIt",
        "colab_type": "code",
        "colab": {}
      },
      "source": [
        ""
      ],
      "execution_count": null,
      "outputs": []
    },
    {
      "cell_type": "markdown",
      "metadata": {
        "id": "jHyNGo7p4vVw",
        "colab_type": "text"
      },
      "source": [
        "Write a python function to find maximum of three numbers"
      ]
    },
    {
      "cell_type": "code",
      "metadata": {
        "id": "x0NN3Znf4-Rz",
        "colab_type": "code",
        "colab": {
          "base_uri": "https://localhost:8080/",
          "height": 85
        },
        "outputId": "f8a838ff-f25b-4c2c-cb0f-e793fe4417ff"
      },
      "source": [
        "num1=float (input(\"enter first number:\"))\n",
        "num2=float(input (\"enter second number:\"))\n",
        "num3=float(input(\"enter third number:\"))\n",
        " \n",
        "if (num1>num2)and (num1>num3):\n",
        "  largest=num1\n",
        "elif (num2>num1)and (num2>num3):\n",
        "  largest=num2\n",
        "else:\n",
        "  largest=num3\n",
        "print(\"the largest number is \",largest)"
      ],
      "execution_count": 5,
      "outputs": [
        {
          "output_type": "stream",
          "text": [
            "enter first number:5\n",
            "enter second number:4\n",
            "enter third number:10\n",
            "the largest number is  10.0\n"
          ],
          "name": "stdout"
        }
      ]
    },
    {
      "cell_type": "markdown",
      "metadata": {
        "id": "bTJ-fkE7ak16",
        "colab_type": "text"
      },
      "source": [
        "Reversing a string"
      ]
    },
    {
      "cell_type": "code",
      "metadata": {
        "id": "NSjpkZLE8DBo",
        "colab_type": "code",
        "colab": {
          "base_uri": "https://localhost:8080/",
          "height": 34
        },
        "outputId": "a9d5a9a1-e46e-48b0-956c-976201c39256"
      },
      "source": [
        "a=\"hello\"\n",
        "print (a[::-1])"
      ],
      "execution_count": null,
      "outputs": [
        {
          "output_type": "stream",
          "text": [
            "olleh\n"
          ],
          "name": "stdout"
        }
      ]
    },
    {
      "cell_type": "markdown",
      "metadata": {
        "id": "itgP_d1Hax4V",
        "colab_type": "text"
      },
      "source": [
        "check whether a give number is prime number or not"
      ]
    },
    {
      "cell_type": "code",
      "metadata": {
        "id": "SO-8ZNZs8rYi",
        "colab_type": "code",
        "colab": {}
      },
      "source": [
        "  a=5\n",
        "   if a>5:\n",
        "   for i in range (2,a):\n",
        "           if a%i ==0:\n",
        "   if a%i=0:print(\"not a prime\")\n",
        "    break\n",
        "   else:\n",
        "   print(\"prime\")\n",
        "    break \n",
        "   else:\n",
        "   print(\"prime\")\n",
        "   else:\n",
        "   print(\" not a prime\")"
      ],
      "execution_count": null,
      "outputs": []
    },
    {
      "cell_type": "markdown",
      "metadata": {
        "id": "8lAvtuz0-L_4",
        "colab_type": "text"
      },
      "source": [
        "Write a python function to find sum of first n natural numbers"
      ]
    },
    {
      "cell_type": "code",
      "metadata": {
        "id": "xt-IhgCh-hRa",
        "colab_type": "code",
        "colab": {
          "base_uri": "https://localhost:8080/",
          "height": 34
        },
        "outputId": "e82df440-a68d-4f20-8fa9-0b9b35575527"
      },
      "source": [
        "def squaresum(n):\n",
        "  return (n*(n+1)/2)*(2*(n+1)/3)\n",
        "n=8\n",
        "print (squaresum(n))"
      ],
      "execution_count": null,
      "outputs": [
        {
          "output_type": "stream",
          "text": [
            "216.0\n"
          ],
          "name": "stdout"
        }
      ]
    }
  ]
}