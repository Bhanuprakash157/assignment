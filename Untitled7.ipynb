{
  "nbformat": 4,
  "nbformat_minor": 0,
  "metadata": {
    "colab": {
      "name": "Untitled7.ipynb",
      "provenance": [],
      "authorship_tag": "ABX9TyPjYh+pUPtWmQyUwnFNPpSM",
      "include_colab_link": true
    },
    "kernelspec": {
      "name": "python3",
      "display_name": "Python 3"
    }
  },
  "cells": [
    {
      "cell_type": "markdown",
      "metadata": {
        "id": "view-in-github",
        "colab_type": "text"
      },
      "source": [
        "<a href=\"https://colab.research.google.com/github/Bhanuprakash157/assignment/blob/master/Untitled7.ipynb\" target=\"_parent\"><img src=\"https://colab.research.google.com/assets/colab-badge.svg\" alt=\"Open In Colab\"/></a>"
      ]
    },
    {
      "cell_type": "code",
      "metadata": {
        "id": "Z2aQxmgm4rIt",
        "colab_type": "code",
        "colab": {}
      },
      "source": [
        ""
      ],
      "execution_count": null,
      "outputs": []
    },
    {
      "cell_type": "markdown",
      "metadata": {
        "id": "jHyNGo7p4vVw",
        "colab_type": "text"
      },
      "source": [
        "Write a python function to find maximum of three numbers"
      ]
    },
    {
      "cell_type": "code",
      "metadata": {
        "id": "x0NN3Znf4-Rz",
        "colab_type": "code",
        "colab": {
          "base_uri": "https://localhost:8080/",
          "height": 149
        },
        "outputId": "88dc5f0a-e7c9-4948-e445-35e5694d04c1"
      },
      "source": [
        "def add(a,b,c):\n",
        "  if a>b:\n",
        "    if a>c:\n",
        "      return a\n",
        "     else:\n",
        "       return c\n",
        "  elif b>c:\n",
        "       return b\n",
        "      else:\n",
        "       return c\n",
        "     a=int (input())\n",
        "     b=int (input())\n",
        "     c=int (input())\n",
        "     max=add (a,b,c)\n",
        "      print (max)"
      ],
      "execution_count": 18,
      "outputs": [
        {
          "output_type": "error",
          "ename": "IndentationError",
          "evalue": "ignored",
          "traceback": [
            "\u001b[0;36m  File \u001b[0;32m\"<ipython-input-18-3fb8743d751a>\"\u001b[0;36m, line \u001b[0;32m5\u001b[0m\n\u001b[0;31m    else:\u001b[0m\n\u001b[0m         ^\u001b[0m\n\u001b[0;31mIndentationError\u001b[0m\u001b[0;31m:\u001b[0m unindent does not match any outer indentation level\n"
          ]
        }
      ]
    },
    {
      "cell_type": "markdown",
      "metadata": {
        "id": "zQhnuark7zHu",
        "colab_type": "text"
      },
      "source": [
        "Write a python program to reverse a string"
      ]
    },
    {
      "cell_type": "code",
      "metadata": {
        "id": "NSjpkZLE8DBo",
        "colab_type": "code",
        "colab": {
          "base_uri": "https://localhost:8080/",
          "height": 34
        },
        "outputId": "a9d5a9a1-e46e-48b0-956c-976201c39256"
      },
      "source": [
        "a=\"hello\"\n",
        "print (a[::-1])"
      ],
      "execution_count": 19,
      "outputs": [
        {
          "output_type": "stream",
          "text": [
            "olleh\n"
          ],
          "name": "stdout"
        }
      ]
    },
    {
      "cell_type": "markdown",
      "metadata": {
        "id": "fjn9s8vV8egr",
        "colab_type": "text"
      },
      "source": [
        "Write a python function to  check whether the number is prime or not"
      ]
    },
    {
      "cell_type": "code",
      "metadata": {
        "id": "SO-8ZNZs8rYi",
        "colab_type": "code",
        "colab": {
          "base_uri": "https://localhost:8080/",
          "height": 149
        },
        "outputId": "77c0e475-3fbf-407e-a454-45659093990d"
      },
      "source": [
        "  a=5\n",
        "   if a>1:\n",
        "     for i in range (2,a):\n",
        "      if a%i==0:\n",
        "       print (\"not a prime\")\n",
        "       break \n",
        "     else:\n",
        "      print (\"prime\")\n",
        "    else:\n",
        "      print(\"not a prime\")"
      ],
      "execution_count": 26,
      "outputs": [
        {
          "output_type": "error",
          "ename": "IndentationError",
          "evalue": "ignored",
          "traceback": [
            "\u001b[0;36m  File \u001b[0;32m\"<ipython-input-26-1ce85dee5348>\"\u001b[0;36m, line \u001b[0;32m2\u001b[0m\n\u001b[0;31m    if a>1:\u001b[0m\n\u001b[0m    ^\u001b[0m\n\u001b[0;31mIndentationError\u001b[0m\u001b[0;31m:\u001b[0m unexpected indent\n"
          ]
        }
      ]
    },
    {
      "cell_type": "markdown",
      "metadata": {
        "id": "8lAvtuz0-L_4",
        "colab_type": "text"
      },
      "source": [
        "Write a python function to find sum of first n natural numbers"
      ]
    },
    {
      "cell_type": "code",
      "metadata": {
        "id": "xt-IhgCh-hRa",
        "colab_type": "code",
        "colab": {
          "base_uri": "https://localhost:8080/",
          "height": 34
        },
        "outputId": "e82df440-a68d-4f20-8fa9-0b9b35575527"
      },
      "source": [
        "def squaresum(n):\n",
        "  return (n*(n+1)/2)*(2*(n+1)/3)\n",
        "n=8\n",
        "print (squaresum(n))"
      ],
      "execution_count": 25,
      "outputs": [
        {
          "output_type": "stream",
          "text": [
            "216.0\n"
          ],
          "name": "stdout"
        }
      ]
    }
  ]
}