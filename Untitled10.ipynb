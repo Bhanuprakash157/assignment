{
  "nbformat": 4,
  "nbformat_minor": 0,
  "metadata": {
    "colab": {
      "name": "Untitled10.ipynb",
      "provenance": [],
      "authorship_tag": "ABX9TyMXkoPltcfT4NomhZQKTT7J",
      "include_colab_link": true
    },
    "kernelspec": {
      "name": "python3",
      "display_name": "Python 3"
    }
  },
  "cells": [
    {
      "cell_type": "markdown",
      "metadata": {
        "id": "view-in-github",
        "colab_type": "text"
      },
      "source": [
        "<a href=\"https://colab.research.google.com/github/Bhanuprakash157/assignment/blob/master/Untitled10.ipynb\" target=\"_parent\"><img src=\"https://colab.research.google.com/assets/colab-badge.svg\" alt=\"Open In Colab\"/></a>"
      ]
    },
    {
      "cell_type": "markdown",
      "metadata": {
        "id": "2wo1fCGWS7C9",
        "colab_type": "text"
      },
      "source": [
        "1.question"
      ]
    },
    {
      "cell_type": "code",
      "metadata": {
        "id": "zvKmt1UsOuo3",
        "colab_type": "code",
        "colab": {
          "base_uri": "https://localhost:8080/",
          "height": 54
        },
        "outputId": "9c84019a-df0d-4576-df26-03afb7edbd79"
      },
      "source": [
        "x=\"10010\"\n",
        "type (x)\n",
        "a=int(x,2)\n",
        "print (\"acter convertinf x to integer:\",a)"
      ],
      "execution_count": 13,
      "outputs": [
        {
          "output_type": "stream",
          "text": [
            "acter convertinf x to integer: 18\n"
          ],
          "name": "stdout"
        }
      ]
    },
    {
      "cell_type": "markdown",
      "metadata": {
        "id": "OEQY3tOiKToW",
        "colab_type": "text"
      },
      "source": [
        "2.Generate first N number of Fibonacci number.take N value from user"
      ]
    },
    {
      "cell_type": "code",
      "metadata": {
        "id": "AhrYW8CuMxxc",
        "colab_type": "code",
        "colab": {
          "base_uri": "https://localhost:8080/",
          "height": 51
        },
        "outputId": "b2386591-e950-45c7-f4b1-0863b97baa9b"
      },
      "source": [
        "n=int(input(\"enter the nth value:\"))\n",
        "a=0\n",
        "b=1\n",
        "sum=0\n",
        "print(\"fibonacci series:\",end=\"\")\n",
        "while (sum<=n):\n",
        "   print(sum,end=\"\")\n",
        "   a=b\n",
        "   b=sum\n",
        "   sum=a+b"
      ],
      "execution_count": 3,
      "outputs": [
        {
          "output_type": "stream",
          "text": [
            "enter the nth value:10\n",
            "fibonacci series:0112358"
          ],
          "name": "stdout"
        }
      ]
    },
    {
      "cell_type": "markdown",
      "metadata": {
        "id": "973Yg-blNxgd",
        "colab_type": "text"
      },
      "source": [
        "3.question"
      ]
    },
    {
      "cell_type": "code",
      "metadata": {
        "id": "wtef53RaNzwy",
        "colab_type": "code",
        "colab": {
          "base_uri": "https://localhost:8080/",
          "height": 187
        },
        "outputId": "fb07b696-f0ae-4c33-9f6a-b7add4a1df94"
      },
      "source": [
        "nun=5\n",
        "for i in range(1,11):\n",
        "  print(nun,'x','i','=',nun*i)"
      ],
      "execution_count": 12,
      "outputs": [
        {
          "output_type": "stream",
          "text": [
            "5 x i = 5\n",
            "5 x i = 10\n",
            "5 x i = 15\n",
            "5 x i = 20\n",
            "5 x i = 25\n",
            "5 x i = 30\n",
            "5 x i = 35\n",
            "5 x i = 40\n",
            "5 x i = 45\n",
            "5 x i = 50\n"
          ],
          "name": "stdout"
        }
      ]
    },
    {
      "cell_type": "markdown",
      "metadata": {
        "id": "CgP8rDM-PZ2d",
        "colab_type": "text"
      },
      "source": [
        "4.question"
      ]
    },
    {
      "cell_type": "code",
      "metadata": {
        "id": "Sz204YFhPboS",
        "colab_type": "code",
        "colab": {}
      },
      "source": [
        "def gcd (a,b):\n",
        "  if(a==0 or b==0):\n",
        "    false\n",
        "  if(a==b):\n",
        "   return a\n",
        "  if (a>b):\n",
        "       return gcd(a-b,b)\n",
        "     return gcd(a,b-a)\n",
        "  a=10\n",
        "  b=15\n",
        "  if(gcd(a,b)):\n",
        "   print('GCD of',a,'and',b,' is',gcd(a,b))\n",
        "  else:\n",
        "   print('not found')"
      ],
      "execution_count": null,
      "outputs": []
    }
  ]
}