{
  "nbformat": 4,
  "nbformat_minor": 0,
  "metadata": {
    "colab": {
      "name": "Untitled22.ipynb",
      "provenance": [],
      "authorship_tag": "ABX9TyMghuyZTnRoL4RSfoBbWu2P",
      "include_colab_link": true
    },
    "kernelspec": {
      "name": "python3",
      "display_name": "Python 3"
    }
  },
  "cells": [
    {
      "cell_type": "markdown",
      "metadata": {
        "id": "view-in-github",
        "colab_type": "text"
      },
      "source": [
        "<a href=\"https://colab.research.google.com/github/Bhanuprakash157/assignment/blob/master/Untitled22.ipynb\" target=\"_parent\"><img src=\"https://colab.research.google.com/assets/colab-badge.svg\" alt=\"Open In Colab\"/></a>"
      ]
    },
    {
      "cell_type": "markdown",
      "metadata": {
        "id": "bSI3n9UeawDB",
        "colab_type": "text"
      },
      "source": [
        "1.Print stats with s starting"
      ]
    },
    {
      "cell_type": "code",
      "metadata": {
        "id": "GVuc1Bkqa1Wu",
        "colab_type": "code",
        "colab": {}
      },
      "source": [
        "def pf ():\n",
        "  a=input (\" enter your string:\")\n",
        "  c=a.split ()\n",
        "  d=[x for x in c if x[0]==\"s\"]\n",
        "  print(d)"
      ],
      "execution_count": 21,
      "outputs": []
    },
    {
      "cell_type": "code",
      "metadata": {
        "id": "2sacZjNJeymp",
        "colab_type": "code",
        "colab": {
          "base_uri": "https://localhost:8080/",
          "height": 71
        },
        "outputId": "2047319f-0d27-422e-a86e-d029ee50a3b6"
      },
      "source": [
        "pf()"
      ],
      "execution_count": 22,
      "outputs": [
        {
          "output_type": "stream",
          "text": [
            " enter your string:print only string s\n",
            "['string', 's']\n"
          ],
          "name": "stdout"
        }
      ]
    },
    {
      "cell_type": "markdown",
      "metadata": {
        "id": "TuI6wkwfblzY",
        "colab_type": "text"
      },
      "source": [
        "2.use range to print even"
      ]
    },
    {
      "cell_type": "code",
      "metadata": {
        "id": "ocXq0fQkfDBk",
        "colab_type": "code",
        "colab": {
          "base_uri": "https://localhost:8080/",
          "height": 119
        },
        "outputId": "0475fb5e-6109-4da5-cdc6-19dd649a857b"
      },
      "source": [
        " \n",
        "for x in range(0,11,2):\n",
        "    print(x)"
      ],
      "execution_count": 33,
      "outputs": [
        {
          "output_type": "stream",
          "text": [
            "0\n",
            "2\n",
            "4\n",
            "6\n",
            "8\n",
            "10\n"
          ],
          "name": "stdout"
        }
      ]
    },
    {
      "cell_type": "markdown",
      "metadata": {
        "id": "38r4wBIlb__M",
        "colab_type": "text"
      },
      "source": [
        "3. List comprehension for 1to 50 and divisible by3:"
      ]
    },
    {
      "cell_type": "code",
      "metadata": {
        "id": "unrYk0RhfeQk",
        "colab_type": "code",
        "colab": {
          "base_uri": "https://localhost:8080/",
          "height": 54
        },
        "outputId": "01a191f8-7c09-4e3a-b6b7-2a381833351d"
      },
      "source": [
        " a=[x for x in range(51) if x%3==0]\n",
        "print(a)"
      ],
      "execution_count": 26,
      "outputs": [
        {
          "output_type": "stream",
          "text": [
            "[0, 3, 6, 9, 12, 15, 18, 21, 24, 27, 30, 33, 36, 39, 42, 45, 48]\n"
          ],
          "name": "stdout"
        }
      ]
    },
    {
      "cell_type": "markdown",
      "metadata": {
        "id": "ZhVsD1Occhxs",
        "colab_type": "text"
      },
      "source": [
        "4.If length of word is even print even"
      ]
    },
    {
      "cell_type": "code",
      "metadata": {
        "id": "FN5P4mYnf0hE",
        "colab_type": "code",
        "colab": {}
      },
      "source": [
        " \n",
        "def po():\n",
        "    a=input(\"enter your string :\")\n",
        "    c=a.split()\n",
        "    d=[x for x in c if len(x)%2==0]\n",
        "    print(d)"
      ],
      "execution_count": 27,
      "outputs": []
    },
    {
      "cell_type": "code",
      "metadata": {
        "id": "MBEuOmAHgG0i",
        "colab_type": "code",
        "colab": {
          "base_uri": "https://localhost:8080/",
          "height": 51
        },
        "outputId": "c35702c1-8db8-47c5-dbf8-1ca3106cbe29"
      },
      "source": [
        "po()"
      ],
      "execution_count": 30,
      "outputs": [
        {
          "output_type": "stream",
          "text": [
            "enter your string :Star for you\n",
            "['Star']\n"
          ],
          "name": "stdout"
        }
      ]
    },
    {
      "cell_type": "markdown",
      "metadata": {
        "id": "U2msopX6dSpQ",
        "colab_type": "text"
      },
      "source": [
        "5.List comprehension for first letter of every word"
      ]
    },
    {
      "cell_type": "code",
      "metadata": {
        "id": "1L3vLDQTgVdq",
        "colab_type": "code",
        "colab": {}
      },
      "source": [
        "def pk():\n",
        "      a=input (\" enter your string:\")\n",
        "      c=a.split()\n",
        "      d=[x[0] for x in c]\n",
        "      print(d)"
      ],
      "execution_count": 31,
      "outputs": []
    },
    {
      "cell_type": "code",
      "metadata": {
        "id": "q4szrN0xhngR",
        "colab_type": "code",
        "colab": {
          "base_uri": "https://localhost:8080/",
          "height": 51
        },
        "outputId": "ac69130e-bb0b-4dd3-f9ee-646d7a10d4c3"
      },
      "source": [
        "pk ()"
      ],
      "execution_count": 32,
      "outputs": [
        {
          "output_type": "stream",
          "text": [
            " enter your string:star for you\n",
            "['s', 'f', 'y']\n"
          ],
          "name": "stdout"
        }
      ]
    }
  ]
}