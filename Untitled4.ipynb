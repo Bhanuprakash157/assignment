{
  "nbformat": 4,
  "nbformat_minor": 0,
  "metadata": {
    "colab": {
      "name": "Untitled4.ipynb",
      "provenance": [],
      "authorship_tag": "ABX9TyNO7IXBZPBWH0GJyY8fSxeB",
      "include_colab_link": true
    },
    "kernelspec": {
      "name": "python3",
      "display_name": "Python 3"
    }
  },
  "cells": [
    {
      "cell_type": "markdown",
      "metadata": {
        "id": "view-in-github",
        "colab_type": "text"
      },
      "source": [
        "<a href=\"https://colab.research.google.com/github/Bhanuprakash157/assignment/blob/master/Untitled4.ipynb\" target=\"_parent\"><img src=\"https://colab.research.google.com/assets/colab-badge.svg\" alt=\"Open In Colab\"/></a>"
      ]
    },
    {
      "cell_type": "code",
      "metadata": {
        "id": "NJjEhJYK4TsV",
        "colab_type": "code",
        "colab": {}
      },
      "source": [
        ""
      ],
      "execution_count": null,
      "outputs": []
    },
    {
      "cell_type": "markdown",
      "metadata": {
        "id": "kLsj0lQ34WJr",
        "colab_type": "text"
      },
      "source": [
        "1.program to take two inputs from user and check they are equal are not"
      ]
    },
    {
      "cell_type": "code",
      "metadata": {
        "id": "Gv7P-cQY4ycq",
        "colab_type": "code",
        "colab": {
          "base_uri": "https://localhost:8080/",
          "height": 68
        },
        "outputId": "09c34b9f-cf7f-4bd0-d721-121a44c02c74"
      },
      "source": [
        "n1=int(input ())\n",
        "n2=int(input ())\n",
        "if n1==n2 :print('numbers are equal')\n",
        "else:print('numbers are not equal')"
      ],
      "execution_count": 4,
      "outputs": [
        {
          "output_type": "stream",
          "text": [
            "2\n",
            "3\n",
            "numbers are not equal\n"
          ],
          "name": "stdout"
        }
      ]
    },
    {
      "cell_type": "code",
      "metadata": {
        "id": "kfjrcN3U55Cy",
        "colab_type": "code",
        "colab": {}
      },
      "source": [
        ""
      ],
      "execution_count": null,
      "outputs": []
    },
    {
      "cell_type": "markdown",
      "metadata": {
        "id": "uDfO_rrn55e2",
        "colab_type": "text"
      },
      "source": [
        "Program to take three inputs from user.and check1)all are equal 2) any of two are equal using and or"
      ]
    },
    {
      "cell_type": "code",
      "metadata": {
        "id": "NzFCDKMi6UZG",
        "colab_type": "code",
        "colab": {
          "base_uri": "https://localhost:8080/",
          "height": 85
        },
        "outputId": "4e623e49-031c-423e-fa98-1f4e226f4716"
      },
      "source": [
        "n1=input()\n",
        "n2=input()\n",
        "n3=input()\n",
        "if n1==n2==n3: print('all are equal')\n",
        "elif n1==n2 or n2==n3 or n1==n3:print('any of two are equal')\n",
        "else:print ('none of them are equal')"
      ],
      "execution_count": 6,
      "outputs": [
        {
          "output_type": "stream",
          "text": [
            "Sa\n",
            "Nd\n",
            "Ep\n",
            "none of them are equal\n"
          ],
          "name": "stdout"
        }
      ]
    },
    {
      "cell_type": "markdown",
      "metadata": {
        "id": "nG6o6DRT7-lQ",
        "colab_type": "text"
      },
      "source": [
        "Program to take two number and check whether sum is greater than 5,less than 5,equal to 5"
      ]
    },
    {
      "cell_type": "code",
      "metadata": {
        "id": "FjCypjC48e_v",
        "colab_type": "code",
        "colab": {
          "base_uri": "https://localhost:8080/",
          "height": 68
        },
        "outputId": "557a3199-a30e-4fe0-f003-5215220833a5"
      },
      "source": [
        "n1=int(input ())\n",
        "n2=int (input ())\n",
        "if n1+n2>5: print(' their sum is greater than 5')\n",
        "else : print(' they are equal')"
      ],
      "execution_count": 7,
      "outputs": [
        {
          "output_type": "stream",
          "text": [
            "2\n",
            "5\n",
            " their sum is greater than 5\n"
          ],
          "name": "stdout"
        }
      ]
    },
    {
      "cell_type": "code",
      "metadata": {
        "id": "VsfyY8vX9RmO",
        "colab_type": "code",
        "colab": {}
      },
      "source": [
        "Suppose passing marks of a subject is 35. Take input of marks from user and check whether it is greater than passing marks or not"
      ],
      "execution_count": null,
      "outputs": []
    },
    {
      "cell_type": "code",
      "metadata": {
        "id": "3p0DulOm-BXX",
        "colab_type": "code",
        "colab": {
          "base_uri": "https://localhost:8080/",
          "height": 51
        },
        "outputId": "8c1060f5-203e-44b0-caf1-5bffeb608a97"
      },
      "source": [
        "Mat=int(input (' marks'))\n",
        "if Mat>35: print (' greater than pass marks ')\n",
        "elif Mat<35 : print (' less than pass marks')\n",
        "else :print (' equal marks')"
      ],
      "execution_count": 8,
      "outputs": [
        {
          "output_type": "stream",
          "text": [
            " marks36\n",
            " greater than pass marks \n"
          ],
          "name": "stdout"
        }
      ]
    },
    {
      "cell_type": "markdown",
      "metadata": {
        "id": "DgjMqvbr_BD2",
        "colab_type": "text"
      },
      "source": [
        "Write a python function to find the max of three number"
      ]
    },
    {
      "cell_type": "code",
      "metadata": {
        "id": "wbvtk8Nc_SC2",
        "colab_type": "code",
        "colab": {
          "base_uri": "https://localhost:8080/",
          "height": 85
        },
        "outputId": "1c3d9a4b-f474-4af2-ef0c-4249ca083539"
      },
      "source": [
        "N1=int(input ())\n",
        "N2=int(input ())\n",
        "N3=int( input ())\n",
        "if N1>N2 and N1>N3:print(' N1 is greater',N1)\n",
        "elif N2>N3:print ('N2 is greater',N2)\n",
        "else : print ('N3 is greater',N3)"
      ],
      "execution_count": 10,
      "outputs": [
        {
          "output_type": "stream",
          "text": [
            "6\n",
            "9\n",
            "10\n",
            "N3 is greater 10\n"
          ],
          "name": "stdout"
        }
      ]
    },
    {
      "cell_type": "markdown",
      "metadata": {
        "id": "upt5GO1N4ZuN",
        "colab_type": "text"
      },
      "source": [
        ""
      ]
    }
  ]
}